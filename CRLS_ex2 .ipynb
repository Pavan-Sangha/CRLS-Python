{
 "cells": [
  {
   "cell_type": "code",
   "execution_count": 1,
   "metadata": {
    "collapsed": true
   },
   "outputs": [],
   "source": [
    "import numpy as np"
   ]
  },
  {
   "cell_type": "markdown",
   "metadata": {},
   "source": [
    "# Section 2: Exercises"
   ]
  },
  {
   "cell_type": "markdown",
   "metadata": {},
   "source": [
    "### Ex 2.1-4 \n",
    "Consider the problem of adding two n-bit binary integers, stored in two n-element arrays A and B. The sum of the two integers should be stored in binary form in an n+1-element array C . State the problem formally and write pseudocode for adding the two integers."
   ]
  },
  {
   "cell_type": "code",
   "execution_count": 2,
   "metadata": {
    "collapsed": true
   },
   "outputs": [],
   "source": [
    "# My solution\n",
    "\n",
    "def bin_add(A,B):\n",
    "    \n",
    "    \"\"\"\n",
    "    input: Two binary numbers A and B\n",
    "    Output: A+B in binary\n",
    "    \"\"\"\n",
    "    \n",
    "    assert(len(A)==len(B))\n",
    "    # we assert the two arrays are of the same length if not we can extend the shorter one with 0's\n",
    "    \n",
    "    carry = 0 # there is no carry initially\n",
    "    C = []  # empty array to be populated \n",
    "    for i in range(len(A)-1,-1,-1):\n",
    "        \n",
    "        C.insert(0,(A[i]+B[i]+carry)%2)  # always insert into first position and insert the sum modulo 2\n",
    "        \n",
    "        if A[i]+B[i]+carry >= 2: # update carry \n",
    "            \n",
    "            carry = 1\n",
    "        \n",
    "        else:\n",
    "            \n",
    "            carry = 0\n",
    "    \n",
    "    C.insert(0,carry) # insert the final carry\n",
    "    \n",
    "    return C\n",
    "    \n",
    "    "
   ]
  },
  {
   "cell_type": "code",
   "execution_count": 3,
   "metadata": {
    "collapsed": true
   },
   "outputs": [],
   "source": [
    " def Merge(A,B):\n",
    "        \n",
    "        \"\"\"\n",
    "        input: Two sorted lists A and B\n",
    "        output: A single list with elements of A and B combined in a sorted array\n",
    "        \n",
    "        \"\"\"\n",
    "        \n",
    "        \n",
    "        \n",
    "        length = len(A)+len(B)\n",
    "        C = []\n",
    "        \n",
    "        #sentinal = max(max(A),max(B))+100\n",
    "        \n",
    "        sentinal = 99999999999999999\n",
    "        \n",
    "        A.append(sentinal)\n",
    "        B.append(sentinal)\n",
    "        \n",
    "        # Finding sentinal requires O(n) run time\n",
    "        \n",
    "        i = 0\n",
    "        j = 0\n",
    "        for k in range(length):\n",
    "            \n",
    "            if A[i]<=B[j]:\n",
    "                \n",
    "                C.append(A[i])\n",
    "                i=i+1\n",
    "            \n",
    "            else:\n",
    "                \n",
    "                C.append(B[j])\n",
    "                j = j+1\n",
    "        \n",
    "        return C\n",
    "            \n",
    "                \n",
    "                \n",
    "            \n",
    "            \n",
    "        \n",
    "        \n",
    "        "
   ]
  },
  {
   "cell_type": "code",
   "execution_count": 4,
   "metadata": {
    "collapsed": true
   },
   "outputs": [],
   "source": [
    "def Merge_sort(List):\n",
    "    \n",
    "    if len(List)==1:\n",
    "        \n",
    "        return List\n",
    "    \n",
    "    else:\n",
    "        \n",
    "        mid_point = int(len(List)/2)\n",
    "        lower = Merge_sort(List[:mid_point])\n",
    "        upper = Merge_sort(List[mid_point:])\n",
    "        return Merge(lower,upper)\n",
    "    "
   ]
  },
  {
   "cell_type": "code",
   "execution_count": 5,
   "metadata": {},
   "outputs": [
    {
     "data": {
      "text/plain": [
       "[15, 30, 41]"
      ]
     },
     "execution_count": 5,
     "metadata": {},
     "output_type": "execute_result"
    }
   ],
   "source": [
    "Merge_sort([30,15,41])"
   ]
  },
  {
   "cell_type": "markdown",
   "metadata": {},
   "source": [
    "### Ex 2.3-5"
   ]
  },
  {
   "cell_type": "code",
   "execution_count": 6,
   "metadata": {
    "collapsed": true
   },
   "outputs": [],
   "source": [
    "\n",
    "\n",
    "# The following algorithm exists the while loop when the list is one element long in which case low = high = mid.\n",
    "# If the value at mid doesn't equal val\n",
    "# then it is either higher or lower, in either case we make high = low -1 or low = high + 1 and the while loop exists.\n",
    "\n",
    "\n",
    "\n",
    "\n",
    "\n",
    "def Binary_search_iterative(sorted_list,val,low, high):\n",
    "    \n",
    "    \"\"\"\n",
    "    input : A sorted_list\n",
    "    Output: True if val is in the sorted_list and False otherwise\n",
    "    \"\"\"\n",
    "    \n",
    "    while low <= high:\n",
    "        \n",
    "        mid = int((low+high)/2)\n",
    "        \n",
    "       \n",
    "        \n",
    "        if sorted_list[mid] == val:\n",
    "            \n",
    "            return mid\n",
    "        \n",
    "        if sorted_list[mid]>val:\n",
    "            \n",
    "            high = mid - 1\n",
    "        \n",
    "        else:\n",
    "            \n",
    "            low = mid + 1\n",
    "    \n",
    "    return False\n",
    "    \n",
    "    \n",
    "    \n",
    "    "
   ]
  },
  {
   "cell_type": "code",
   "execution_count": 7,
   "metadata": {},
   "outputs": [
    {
     "data": {
      "text/plain": [
       "2"
      ]
     },
     "execution_count": 7,
     "metadata": {},
     "output_type": "execute_result"
    }
   ],
   "source": [
    "list = [1,2,3,5,9,100]\n",
    "val = 3\n",
    "Binary_search_iterative(list,val,0,5)"
   ]
  },
  {
   "cell_type": "code",
   "execution_count": 8,
   "metadata": {
    "collapsed": true
   },
   "outputs": [],
   "source": [
    "def Binary_search_recursive(sorted_list,val,low,high):\n",
    "    \n",
    "    \n",
    "    if low>high:\n",
    "        \n",
    "        return False\n",
    "    \n",
    "    \n",
    "    mid = int((low+high)/2)\n",
    "    \n",
    "    \n",
    "    if sorted_list[mid]==val:\n",
    "        \n",
    "        return mid\n",
    "    \n",
    "    if sorted_list[mid]<val:\n",
    "        \n",
    "        low = mid+1\n",
    "        \n",
    "        return Binary_search_recursive(sorted_list,val,low,high)\n",
    "    \n",
    "    if sorted_list[mid]>val:\n",
    "        high = mid -1\n",
    "        \n",
    "        return Binary_search_recursive(sorted_list,val,low,high)"
   ]
  },
  {
   "cell_type": "code",
   "execution_count": 9,
   "metadata": {},
   "outputs": [
    {
     "data": {
      "text/plain": [
       "5"
      ]
     },
     "execution_count": 9,
     "metadata": {},
     "output_type": "execute_result"
    }
   ],
   "source": [
    "sorted_list = [1,2,3,5,9,100]\n",
    "val = 100\n",
    "Binary_search_recursive(sorted_list,val,0,5)"
   ]
  },
  {
   "cell_type": "markdown",
   "metadata": {},
   "source": [
    "### Ex 2.3-7"
   ]
  },
  {
   "cell_type": "markdown",
   "metadata": {},
   "source": [
    "* Create an algorithm in $O(n \\text{log}(n))$ time that checks whether given a number $x$ two numbers in the list sum to it.\n"
   ]
  },
  {
   "cell_type": "markdown",
   "metadata": {},
   "source": [
    "### Approach 1"
   ]
  },
  {
   "cell_type": "markdown",
   "metadata": {},
   "source": [
    "* We consider the following approach, we consider two indexes i and j and work on a sorted list. The index i starts at 0 and j starts at n. We note the following for a value s if $A[i]+A[j] < s \\Rightarrow A[i]+A[k] < s$ for all $k<j$. Similarly if $A[i]+A[j] >s \\Rightarrow A[k]+A[j] >s$ for all $k>j$. If we think of a grid which is $n \\times n$ and search for a pair $(i,j)$ for which $A[i]+A[j]=s$ this gives us an approach to converge on the solution. \n",
    "* The algorithm runs in linear time since in each step we move down either a row or column. In each case $i+j$ decreases by 1. Since initially $i+j = n+1$ it shows that the algorithm is linear. "
   ]
  },
  {
   "cell_type": "code",
   "execution_count": 10,
   "metadata": {
    "collapsed": true
   },
   "outputs": [],
   "source": [
    "def sum_finder1(entries,sum_val):\n",
    "    \n",
    "    \n",
    "    temp_sorted = Merge_sort(entries)  # sort list takes O(n log(n)) time\n",
    "    \n",
    "    i = 0\n",
    "    j = len(entries)-1\n",
    "    \n",
    "    while i<j:\n",
    "        \n",
    "        if entries[i]+entries[j]>sum_val:\n",
    "            \n",
    "            j += -1\n",
    "        \n",
    "        if entries[i]+entries[j]<sum_val:\n",
    "            \n",
    "            i += 1\n",
    "        \n",
    "        if entries[i]+entries[j] == sum_val:\n",
    "            \n",
    "            return(i,j)\n",
    "        \n",
    "    return 'Not found'\n",
    "        \n",
    "        \n",
    "    \n",
    "    \n",
    "    "
   ]
  },
  {
   "cell_type": "code",
   "execution_count": 11,
   "metadata": {},
   "outputs": [
    {
     "data": {
      "text/plain": [
       "'Not found'"
      ]
     },
     "execution_count": 11,
     "metadata": {},
     "output_type": "execute_result"
    }
   ],
   "source": [
    "entries = [1,2,3,4,5,9]\n",
    "sum_finder1(entries,100)"
   ]
  },
  {
   "cell_type": "markdown",
   "metadata": {},
   "source": [
    "### Approach 2"
   ]
  },
  {
   "cell_type": "markdown",
   "metadata": {},
   "source": [
    "* If there are two values in $x,y$ in a list $L$ such that $x+y = s$ then create a new list with values $s-x$ for each $x$ in $L$. Call this list $L'$. Then we can check for each entry in $L'$ whether the entry is in $L$, as it's the value we need to find to sum to $s$.\n",
    "* If we merge $L$ and $L'$ and there is a pair which sum to $S$ we should get repeated entries in Merge(L,L'). To see this note that if $x+y = s$ then $s-y = x$ is in $L'$ and $x$ is in $L'$.\n",
    "* We first right a function to remove duplicates from a list (note in python we can use set). "
   ]
  },
  {
   "cell_type": "code",
   "execution_count": 60,
   "metadata": {
    "collapsed": true
   },
   "outputs": [],
   "source": [
    "def set_from_list(entries):\n",
    "    \n",
    "    \"\"\"\n",
    "    Assumes set is sorted already\n",
    "    \"\"\"\n",
    "    \n",
    "    set_list = [entries[0]]\n",
    "    for i in range(1,len(entries)):\n",
    "        \n",
    "        if entries[i] != entries[i-1]:\n",
    "            \n",
    "            set_list.append(entries[i])\n",
    "    \n",
    "    return set_list\n",
    "        \n",
    "        \n",
    "        \n",
    "        "
   ]
  },
  {
   "cell_type": "code",
   "execution_count": 97,
   "metadata": {
    "collapsed": true
   },
   "outputs": [],
   "source": [
    "def is_duplicate(entries):\n",
    "    \n",
    "    for i in range(len(entries)-1):\n",
    "        \n",
    "        if entries[i]==entries[i+1]:\n",
    "            return True\n",
    "    \n",
    "    return False"
   ]
  },
  {
   "cell_type": "code",
   "execution_count": 98,
   "metadata": {
    "collapsed": true
   },
   "outputs": [],
   "source": [
    "def sum_finder2(entries,sum_val):\n",
    "    \n",
    "    sort_entries = sorted(entries)\n",
    "    unique_entries = set_from_list(sort_entries)\n",
    "    unique_entries_sum = [sum_val - entry for entry in unique_entries]\n",
    "    unique_entries_sum = sorted(unique_entries_sum)\n",
    "    \n",
    "    merged_lists = Merge(unique_entries,unique_entries_sum)\n",
    "    \n",
    "    return is_duplicate(merged_lists)\n",
    "    \n",
    "    "
   ]
  },
  {
   "cell_type": "code",
   "execution_count": 101,
   "metadata": {},
   "outputs": [
    {
     "data": {
      "text/plain": [
       "True"
      ]
     },
     "execution_count": 101,
     "metadata": {},
     "output_type": "execute_result"
    }
   ],
   "source": [
    "sum_finder2([2,3,100,14,10],5)"
   ]
  },
  {
   "cell_type": "markdown",
   "metadata": {},
   "source": [
    "# Section 2: Problems "
   ]
  },
  {
   "cell_type": "markdown",
   "metadata": {
    "collapsed": true
   },
   "source": [
    "# Problem 5\n",
    "\n",
    "* Let A[1...n] be an array of n distinct numbers. If $i<j$ and $A[i]>A[j]$, then the pair $(i,j)$ is called an inversion of A.\n",
    "\n",
    "* c) What is the relationship between the running time of insertion sort and the number of inversions in the input array? Justify your answer.\n",
    "\n",
    "* d) Write code to count the number of inversions of an array by modifying merge sort."
   ]
  },
  {
   "cell_type": "markdown",
   "metadata": {},
   "source": [
    "* Solution to c. Everytime we insert $A[j]$ into the sorted array $A[1],...,A[j-1]$ one iteration of the while loop corresponds to the removal of exactly one inversion.\n",
    "\n",
    "i.e if our sorted sub array is $[1,3,9,12]$ and we are to insert $4$. Then $(12,4)$ is considered and $(12,9)$ is considered. Furthermore sorting left to right perseves the order of any inversions that occur beyond an index. So consider a list split in two parts L and R if we want to consider only the inversions between pairs (i,j) where i in L and J is in R then that is the same number of inversions between i) Sorted(L) and R, ii) L and Sorted(R) and (iii) Sorted(L) and Sorted(R). "
   ]
  },
  {
   "cell_type": "markdown",
   "metadata": {},
   "source": [
    "* solution to d. The idea is to split the list into a tree much like merge sort. A list L can be split in two and the problem analysed on the two sublists L[1:p] and L[p+1:]. To count the total number of inversions in L we need the total number of inversions in L[1:p] the total number of inversions in L[p+1:] and then the total number of inversions between the two sublists. "
   ]
  },
  {
   "cell_type": "code",
   "execution_count": null,
   "metadata": {
    "collapsed": true
   },
   "outputs": [],
   "source": []
  }
 ],
 "metadata": {
  "kernelspec": {
   "display_name": "Python 3",
   "language": "python",
   "name": "python3"
  },
  "language_info": {
   "codemirror_mode": {
    "name": "ipython",
    "version": 2
   },
   "file_extension": ".py",
   "mimetype": "text/x-python",
   "name": "python",
   "nbconvert_exporter": "python",
   "pygments_lexer": "ipython2",
   "version": "2.7.8"
  }
 },
 "nbformat": 4,
 "nbformat_minor": 2
}
